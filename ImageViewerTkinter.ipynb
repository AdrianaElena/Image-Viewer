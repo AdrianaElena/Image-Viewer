{
 "cells": [
  {
   "cell_type": "code",
   "execution_count": 2,
   "metadata": {},
   "outputs": [],
   "source": [
    "from tkinter import *\n",
    "from PIL import ImageTk, Image\n",
    "\n",
    "root = Tk()\n",
    "root.title(\"Hiiiiii!\")\n",
    "root.iconbitmap('C:/Users/adria/Pictures/iconfinderpc.ico')\n",
    "\n",
    "img1 = ImageTk.PhotoImage(Image.open('C:/Users/adria/Pictures/coffee.jpg'))\n",
    "img2 = ImageTk.PhotoImage(Image.open('C:/Users/adria/Pictures/1.jpg'))\n",
    "img3 = ImageTk.PhotoImage(Image.open('C:/Users/adria/Pictures/laptop.jpg'))\n",
    "img4 = ImageTk.PhotoImage(Image.open('C:/Users/adria/Pictures/sea.jpg'))\n",
    "\n",
    "image_list = [img1, img2, img3, img4]\n",
    "\n",
    "label = Label(image=img1)\n",
    "label.grid(row=0, column=0, columnspan=3)\n",
    "\n",
    "\n",
    "def forward(image_nr):\n",
    "    global label\n",
    "    global button_forward\n",
    "    global button_back\n",
    "    \n",
    "    label.grid_forget()\n",
    "    label = Label(image=image_list[image_nr-1])\n",
    "    \n",
    "    button_forward = Button(root, text=\">>\", command=lambda: forward(image_nr+1))\n",
    "    if image_nr==4:\n",
    "        button_forward = Button(root, text=\">>\", state=DISABLED)\n",
    "    \n",
    "    if image_nr==1:\n",
    "        button_back = Button(root, text=\"<<\", state=DISABLED)\n",
    "    else:\n",
    "        button_back = Button(root, text=\"<<\", command=lambda:back(image_nr-1))\n",
    "    \n",
    "    label.grid(row=0, column=0, columnspan=3)\n",
    "    button_forward.grid(row=1, column=2)\n",
    "    button_back.grid(row=1, column=0)\n",
    "    \n",
    "    \n",
    "    \n",
    "def back(image_nr):\n",
    "    global label\n",
    "    global button_forward\n",
    "    global button_back\n",
    "    \n",
    "    label.grid_forget()\n",
    "    label.grid_forget()\n",
    "    label = Label(image=image_list[image_nr-1])\n",
    "    \n",
    "    button_forward = Button(root, text=\">>\", command=lambda: forward(image_nr+1))\n",
    "    if image_nr==1:\n",
    "        button_back = Button(root, text=\"<<\", state=DISABLED)\n",
    "    else:\n",
    "        button_back = Button(root, text=\"<<\", command=lambda:back(image_nr-1))\n",
    "    \n",
    "    label.grid(row=0, column=0, columnspan=3)\n",
    "    button_forward.grid(row=1, column=2)\n",
    "    button_back.grid(row=1, column=0)\n",
    "\n",
    "\n",
    "button_back = Button(root, text=\"<<\", command=back, state=DISABLED)\n",
    "button_exit = Button(root, text=\"Exit Program\", command=root.destroy)\n",
    "button_forward = Button(root, text=\">>\", command=lambda: forward(2))\n",
    "\n",
    "button_back.grid(row=1, column=0)\n",
    "button_exit.grid(row=1, column=1)\n",
    "button_forward.grid(row=1, column=2)\n",
    "\n",
    "root.mainloop()"
   ]
  },
  {
   "cell_type": "code",
   "execution_count": null,
   "metadata": {
    "scrolled": false
   },
   "outputs": [],
   "source": []
  },
  {
   "cell_type": "code",
   "execution_count": null,
   "metadata": {},
   "outputs": [],
   "source": []
  }
 ],
 "metadata": {
  "kernelspec": {
   "display_name": "Python 3",
   "language": "python",
   "name": "python3"
  },
  "language_info": {
   "codemirror_mode": {
    "name": "ipython",
    "version": 3
   },
   "file_extension": ".py",
   "mimetype": "text/x-python",
   "name": "python",
   "nbconvert_exporter": "python",
   "pygments_lexer": "ipython3",
   "version": "3.7.6"
  }
 },
 "nbformat": 4,
 "nbformat_minor": 4
}
